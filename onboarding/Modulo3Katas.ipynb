{
 "cells": [
  {
   "cell_type": "markdown",
   "metadata": {},
   "source": [
    "## Ejercicio - Escribir declaraciones if, else, elif"
   ]
  },
  {
   "cell_type": "code",
   "execution_count": 5,
   "metadata": {},
   "outputs": [
    {
     "name": "stdout",
     "output_type": "stream",
     "text": [
      "Warning asteroid approching quickly to earth\n"
     ]
    }
   ],
   "source": [
    "# Añadir el código necesario para crear una variable que guarde la velocidad del asteroide.\n",
    "# Escribe una expresión de prueba para calcular si necesita una advertencia.\n",
    "# Agregue las instrucciones que se ejecutarán si la expresión de prueba es true o false.\n",
    "\n",
    "# Velocity is km/s\n",
    "asteroid_velocity = 49\n",
    "if asteroid_velocity > 25:\n",
    "    print(\"Warning asteroid approaching quickly to earth\")\n",
    "else:\n",
    "    print(\"The asteroid velocity is not nothing to worry about\")\n"
   ]
  },
  {
   "cell_type": "code",
   "execution_count": 6,
   "metadata": {},
   "outputs": [
    {
     "name": "stdout",
     "output_type": "stream",
     "text": [
      "Don't worry about, there's nothing shining in the sky\n"
     ]
    }
   ],
   "source": [
    "# Agrega el código para crear una variable para un asteroide que viaja a 19 km/s\n",
    "# Escribe varias expresiones de prueba para determinar si puedes ver el rayo de luz desde la tierra\n",
    "# Agrega las instrucciones que se ejecutarán si las expresiones de prueba son True o False\n",
    "\n",
    "#velocity is km/s\n",
    "asteroid_velocity = 19\n",
    "if asteroid_velocity > 20:\n",
    "    print(\"Look up the sky there's a lighting \")\n",
    "elif asteroid_velocity == 20:\n",
    "    print(\"Look up the sky there's a lighting \")\n",
    "else:\n",
    "    print(\"Don't worry about, there's nothing shining in the sky\")"
   ]
  },
  {
   "cell_type": "markdown",
   "metadata": {},
   "source": [
    "## Ejercicio -  Uso de operadores and y or"
   ]
  },
  {
   "cell_type": "code",
   "execution_count": 8,
   "metadata": {},
   "outputs": [
    {
     "name": "stdout",
     "output_type": "stream",
     "text": [
      "Warning a big asteroid is approaching quickly to earth!\n"
     ]
    }
   ],
   "source": [
    "# Agrega el código para crear nuevas variables para la velocidad y el tamaño del asteroide\n",
    "# Para probar el código, prueba con varias velocidades y tamaños\n",
    "# Escribe varias expresiones de prueba o combinaciones de expresiones de prueba para determinar qué mensaje se debe enviar a Tierra.\n",
    "\n",
    "#velocity is km/s and size is km\n",
    "asteroid_velocity = 27\n",
    "asteroid_size = 42\n",
    "if asteroid_velocity > 25 and asteroid_size > 25:\n",
    "    print(\"Warning a big asteroid is approaching quickly to earth!\")\n",
    "elif asteroid_velocity >= 20:\n",
    "    print(\"Look up the sky there's a lighting \")\n",
    "elif asteroid_size <= 25:\n",
    "    print(\"Don't worry aboout it\")\n",
    "else:\n",
    "    print(\"Don't worry about it\")"
   ]
  }
 ],
 "metadata": {
  "interpreter": {
   "hash": "bf9068b607a474f4620f3a6eba85fa88ad15d35653586d7c3204cd2a328de61d"
  },
  "kernelspec": {
   "display_name": "Python 3.10.2 ('env': venv)",
   "language": "python",
   "name": "python3"
  },
  "language_info": {
   "codemirror_mode": {
    "name": "ipython",
    "version": 3
   },
   "file_extension": ".py",
   "mimetype": "text/x-python",
   "name": "python",
   "nbconvert_exporter": "python",
   "pygments_lexer": "ipython3",
   "version": "3.10.2"
  },
  "orig_nbformat": 4
 },
 "nbformat": 4,
 "nbformat_minor": 2
}
