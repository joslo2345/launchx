{
 "cells": [
  {
   "cell_type": "markdown",
   "metadata": {},
   "source": [
    "## Crear un entorno Virtual"
   ]
  },
  {
   "cell_type": "markdown",
   "metadata": {},
   "source": [
    "para crear nuestro entorno virtual ejecutamos en nuestra linea de comandos\n",
    "\n",
    "`python -m venv env`\n",
    "\n",
    "para activar nuestro entorno virtual utilizamos el sisguiente comando (windows):\n",
    "\n",
    "`env/Scripts/activate.bat`\n",
    "\n",
    "Para installar una libreria en nuestro entorno virtual, como ejemplo python-dateutil, usamos el siguiente comando:\n",
    "\n",
    "`pipi install python-dateutil`\n",
    "\n",
    "Para desactivar nuestro entorno virtual utilizamos el siguiente comando:\n",
    "\n",
    "`deactivate`"
   ]
  }
 ],
 "metadata": {
  "interpreter": {
   "hash": "bf9068b607a474f4620f3a6eba85fa88ad15d35653586d7c3204cd2a328de61d"
  },
  "kernelspec": {
   "display_name": "Python 3.10.2 ('env': venv)",
   "language": "python",
   "name": "python3"
  },
  "language_info": {
   "name": "python",
   "version": "3.10.2"
  },
  "orig_nbformat": 4
 },
 "nbformat": 4,
 "nbformat_minor": 2
}
