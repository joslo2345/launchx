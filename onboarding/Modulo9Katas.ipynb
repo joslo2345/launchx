{
 "cells": [
  {
   "cell_type": "markdown",
   "metadata": {},
   "source": [
    "## Ejerccio 1: Trabajar con argumentos en funciones"
   ]
  },
  {
   "cell_type": "code",
   "execution_count": 3,
   "metadata": {},
   "outputs": [],
   "source": [
    "# function to read 3 fuel tanks and show the average\n",
    "def generate_report(tank1,tank2,tank3):\n",
    "    total_fuel = tank1 + tank2 + tank3\n",
    "    average_fuel = round(total_fuel/3,2)\n",
    "    output_string = f'''Fuel Report:\n",
    "    Average fuel : {average_fuel}%\n",
    "    Tank 1: {tank1}%\n",
    "    Tank 2: {tank2}%\n",
    "    Tank 3: {tank3}%\n",
    "    '''\n",
    "    return output_string"
   ]
  },
  {
   "cell_type": "code",
   "execution_count": 6,
   "metadata": {},
   "outputs": [
    {
     "name": "stdout",
     "output_type": "stream",
     "text": [
      "Fuel Report:\n",
      "    Average fuel : 66.67%\n",
      "    Tank 1: 40%\n",
      "    Tank 2: 70%\n",
      "    Tank 3: 90%\n",
      "    \n"
     ]
    }
   ],
   "source": [
    "# call the function to generate the report of print( function( tank1,tank2,tank3 ) )\n",
    "print(generate_report(40, 70, 90))"
   ]
  },
  {
   "cell_type": "code",
   "execution_count": 7,
   "metadata": {},
   "outputs": [
    {
     "name": "stdout",
     "output_type": "stream",
     "text": [
      "Testing of average function: 66.67\n"
     ]
    }
   ],
   "source": [
    "# average function\n",
    "def calculate_average(*args):\n",
    "    return round(sum(args)/len(args),2)\n",
    "\n",
    "print(f'Testing of average function: {calculate_average(40,70,90)}')"
   ]
  },
  {
   "cell_type": "code",
   "execution_count": 8,
   "metadata": {},
   "outputs": [
    {
     "name": "stdout",
     "output_type": "stream",
     "text": [
      "Fuel Report:\n",
      "    Average fuel : 66.67%\n",
      "    Tank 1: 40%\n",
      "    Tank 2: 70%\n",
      "    Tank 3: 90%\n",
      "    \n"
     ]
    }
   ],
   "source": [
    "# actualize the generate_report function\n",
    "def generate_report(tank1,tank2,tank3):\n",
    "    average_fuel = calculate_average(tank1,tank2,tank3)\n",
    "    output_string = f'''Fuel Report:\n",
    "    Average fuel : {average_fuel}%\n",
    "    Tank 1: {tank1}%\n",
    "    Tank 2: {tank2}%\n",
    "    Tank 3: {tank3}%\n",
    "    '''\n",
    "    return output_string\n",
    "# calling the new generate_report function\n",
    "print(generate_report(40,70,90))"
   ]
  },
  {
   "cell_type": "markdown",
   "metadata": {},
   "source": [
    "## Ejercicio 2: Trabajo con argumentos de palabra clave"
   ]
  },
  {
   "cell_type": "code",
   "execution_count": 12,
   "metadata": {},
   "outputs": [
    {
     "name": "stdout",
     "output_type": "stream",
     "text": [
      "\n",
      "    Mission destination: Mars\n",
      "    total time: 75 minutes\n",
      "    total fuel: 11342 liters\n",
      "    \n"
     ]
    }
   ],
   "source": [
    "# function with a precise mission report. Considere prelaunch time, flight time, destination, external tank, and main tank.\n",
    "def mission_report(prelaunch_time,flight_time,destination,external_tank,main_tank):\n",
    "    output_string = f'''\n",
    "    Mission destination: {destination}\n",
    "    total time: {prelaunch_time + flight_time} minutes\n",
    "    total fuel: {external_tank + main_tank} liters\n",
    "    '''\n",
    "    return output_string\n",
    "\n",
    "print(mission_report(30, 45,\"Mars\",1_828,9_514))"
   ]
  },
  {
   "cell_type": "code",
   "execution_count": 13,
   "metadata": {},
   "outputs": [
    {
     "name": "stdout",
     "output_type": "stream",
     "text": [
      "\n",
      "    Mission destination: Mars\n",
      "    total time: 200 minutes\n",
      "    total fuel: 70000 liters\n",
      "    \n"
     ]
    }
   ],
   "source": [
    "# write your new function considering the *args and **kwargs\n",
    "def mission_report(destination,*time,**tanks):\n",
    "    output_string = f'''\n",
    "    Mission destination: {destination}\n",
    "    total time: {sum(time)} minutes\n",
    "    total fuel: {sum(tanks.values())} liters\n",
    "    '''\n",
    "    return output_string\n",
    "\n",
    "#testing the new function\n",
    "print(mission_report(\"Mars\",40,70,90,externa_1= 10_000,external_2=20_000,main= 40_000))"
   ]
  },
  {
   "cell_type": "code",
   "execution_count": 19,
   "metadata": {},
   "outputs": [
    {
     "name": "stdout",
     "output_type": "stream",
     "text": [
      "\n",
      "    Mission destination: Venus\n",
      "    total time: 200 minutes\n",
      "    total fuel: 70000 liters\n",
      "    externa_1 tank : 10000 liters left\n",
      "external_2 tank : 20000 liters left\n",
      "main tank : 40000 liters left\n",
      "\n"
     ]
    }
   ],
   "source": [
    "# new function with tanks names\n",
    "def mission_report(destination,*time,**tanks):\n",
    "    output_string = f'''\n",
    "    Mission destination: {destination}\n",
    "    total time: {sum(time)} minutes\n",
    "    total fuel: {sum(tanks.values())} liters\n",
    "    '''\n",
    "    for tank_name, fuel in tanks.items():\n",
    "        output_string += f\"{tank_name} tank : {fuel} liters left\\n\"\n",
    "    \n",
    "    return output_string\n",
    "\n",
    "# testing the new function\n",
    "print(mission_report(\"Venus\",40,70,90,externa_1= 10_000,external_2=20_000,main= 40_000))"
   ]
  }
 ],
 "metadata": {
  "interpreter": {
   "hash": "bf9068b607a474f4620f3a6eba85fa88ad15d35653586d7c3204cd2a328de61d"
  },
  "kernelspec": {
   "display_name": "Python 3.10.2 ('env': venv)",
   "language": "python",
   "name": "python3"
  },
  "language_info": {
   "codemirror_mode": {
    "name": "ipython",
    "version": 3
   },
   "file_extension": ".py",
   "mimetype": "text/x-python",
   "name": "python",
   "nbconvert_exporter": "python",
   "pygments_lexer": "ipython3",
   "version": "3.10.2"
  },
  "orig_nbformat": 4
 },
 "nbformat": 4,
 "nbformat_minor": 2
}
