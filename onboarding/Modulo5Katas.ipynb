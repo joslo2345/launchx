{
 "cells": [
  {
   "cell_type": "markdown",
   "metadata": {},
   "source": [
    "## Ejercicio 1: Utilizar operadores aritméticos"
   ]
  },
  {
   "cell_type": "code",
   "execution_count": 2,
   "metadata": {},
   "outputs": [],
   "source": [
    "# distances are km\n",
    "earth_distance = 149_597_870\n",
    "jupyter_distance = 778_547_200"
   ]
  },
  {
   "cell_type": "code",
   "execution_count": 5,
   "metadata": {},
   "outputs": [
    {
     "name": "stdout",
     "output_type": "stream",
     "text": [
      "the distance between jupyter and earth is 628949330 km\n",
      "the distance between jupyter and earth is 1012195830.53952 mi\n"
     ]
    }
   ],
   "source": [
    "distance_between_planets = jupyter_distance - earth_distance\n",
    "text_output = f\"the distance between jupyter and earth is {distance_between_planets} km\"\n",
    "print(text_output)\n",
    "# convert distance from km to mi\n",
    "distance_between_planets = distance_between_planets * 1.609344\n",
    "text_output = f\"the distance between jupyter and earth is {distance_between_planets} mi\"\n",
    "print(text_output)"
   ]
  },
  {
   "cell_type": "markdown",
   "metadata": {},
   "source": [
    "## Ejercicio 2: convierte cadenas en números y usa valores absolutos"
   ]
  },
  {
   "cell_type": "code",
   "execution_count": 6,
   "metadata": {},
   "outputs": [],
   "source": [
    "#introduce the first planet distance from the sun\n",
    "first_planet = input(\"Introduce the distance from the sun of the first planet in km: \")\n",
    "second_planet = input(\"Introduce the distance from the sun of the first planet in km: \")"
   ]
  },
  {
   "cell_type": "code",
   "execution_count": 7,
   "metadata": {},
   "outputs": [],
   "source": [
    "first_planet = int(first_planet)\n",
    "second_planet = int(second_planet)"
   ]
  },
  {
   "cell_type": "code",
   "execution_count": 9,
   "metadata": {},
   "outputs": [
    {
     "name": "stdout",
     "output_type": "stream",
     "text": [
      "the distance between jupyter and earth is 50300000 km\n",
      "the distance between jupyter and earth is 80950003.2 mi\n"
     ]
    }
   ],
   "source": [
    "# find the distance between the two planets in km\n",
    "distance_between_planets = second_planet - first_planet\n",
    "text_output = f\"the distance between jupyter and earth is {abs(distance_between_planets)} km\"\n",
    "print(text_output)\n",
    "\n",
    "#convert from km to mi\n",
    "distance_between_planets = distance_between_planets * 1.609344\n",
    "text_output = f\"the distance between jupyter and earth is {abs(distance_between_planets)} mi\"\n",
    "print(text_output)"
   ]
  }
 ],
 "metadata": {
  "interpreter": {
   "hash": "bf9068b607a474f4620f3a6eba85fa88ad15d35653586d7c3204cd2a328de61d"
  },
  "kernelspec": {
   "display_name": "Python 3.10.2 ('env': venv)",
   "language": "python",
   "name": "python3"
  },
  "language_info": {
   "codemirror_mode": {
    "name": "ipython",
    "version": 3
   },
   "file_extension": ".py",
   "mimetype": "text/x-python",
   "name": "python",
   "nbconvert_exporter": "python",
   "pygments_lexer": "ipython3",
   "version": "3.10.2"
  },
  "orig_nbformat": 4
 },
 "nbformat": 4,
 "nbformat_minor": 2
}
