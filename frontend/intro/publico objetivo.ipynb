{
 "cells": [
  {
   "cell_type": "markdown",
   "metadata": {},
   "source": [
    "# Público Objetivo"
   ]
  },
  {
   "cell_type": "markdown",
   "metadata": {},
   "source": [
    "Nuestro público objetivo tiene un rango de edad tiene 18 años o más. Cualquiera de ellos \n",
    "al ser mayor de edad puede promover un demanda sea de caracater laboral, penal o civil.\n",
    "\n",
    "Las profesiones de los clientes pueden ser muy variadas y no limitadas cierto a algunas excepciones como demandas en el extranjero.\n",
    "El publico esta destinado a ser del país de México."
   ]
  }
 ],
 "metadata": {
  "language_info": {
   "name": "python"
  },
  "orig_nbformat": 4
 },
 "nbformat": 4,
 "nbformat_minor": 2
}
