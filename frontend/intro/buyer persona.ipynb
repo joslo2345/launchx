{
 "cells": [
  {
   "cell_type": "markdown",
   "metadata": {},
   "source": [
    "# Buyer Persona"
   ]
  },
  {
   "cell_type": "markdown",
   "metadata": {},
   "source": [
    "### Descripción de buyer persona (o cliente ideal)\n",
    "\n",
    "Alan es un joven de 28 años que este en el mundo laboral y tiene un negocio que ahce trabajos por medio de contratos.\n",
    "El 90% de sus trabajos se inician y termina sin problemas de parte de sus clientes. El otro 10% que no se debe a los clientes, algunos distribuidores y personas externas por lo cual tiene que actual legalmente.\n",
    "\n",
    "Para él, acudir a un despacho jurídico es una actividad que toma mucho de sus tiempo de traslado. Para él, tener un servicio web donde puede iniciar una demanda de manera sencilla y no gastar tiempo para desplazarse a menos que se requiera sería lo ideal.\n"
   ]
  }
 ],
 "metadata": {
  "language_info": {
   "name": "python"
  },
  "orig_nbformat": 4
 },
 "nbformat": 4,
 "nbformat_minor": 2
}
