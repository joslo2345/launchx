{
 "cells": [
  {
   "cell_type": "markdown",
   "metadata": {},
   "source": [
    "# Requerimientos"
   ]
  },
  {
   "cell_type": "markdown",
   "metadata": {},
   "source": [
    "### ***Proyecto : AbogadoBot***\n",
    "\n",
    "Descripción del requerimiento: sitio web que automatiza las demandas de un despacho jurídico dependiendo del cliente.\n",
    "\n",
    "Responsable de la solicitud: Abogados S.A de C.V\n",
    "\n",
    "Depedencia Solicitante: Jurídico\n",
    "\n",
    "Responsable Funcional designado por el equipo de desarrollo de software: joslo2345"
   ]
  },
  {
   "cell_type": "markdown",
   "metadata": {},
   "source": [
    "Descripción del solicitante: Automatización de demandas para un cliente de un despacho jurídico por medio de un formulario alojado en una página web después del llenado de este formulario se tendrá una página donde se hará la transacción correspondiente del trabajo. El usuario deberá crear una cuenta para dar seguimiento a su proceso legal. El despacho tendrá una cuenta de administrador con la cual podrá darle notificaciones de su proceso legal a cada uno de sus clientes."
   ]
  },
  {
   "cell_type": "markdown",
   "metadata": {},
   "source": [
    "Tipo de desarrollo: Web/ Servicio Web  \n",
    "Base de datos: MongoDB  \n",
    "Lenguaje: Javascript  "
   ]
  }
 ],
 "metadata": {
  "language_info": {
   "name": "python"
  },
  "orig_nbformat": 4
 },
 "nbformat": 4,
 "nbformat_minor": 2
}
